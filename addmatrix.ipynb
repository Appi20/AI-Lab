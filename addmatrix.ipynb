{
 "cells": [
  {
   "cell_type": "code",
   "execution_count": 5,
   "source": [
    "#ADDITION\r\n",
    "rows = int(input(\"Enter the Number of rows : \" ))\r\n",
    "column = int(input(\"Enter the Number of Columns: \"))\r\n",
    "\r\n",
    "print(\"Enter the elements of First Matrix:\")\r\n",
    "matrix_a= [[int(input()) for i in range(column)] for i in range(rows)]\r\n",
    "print(\"First Matrix is: \")\r\n",
    "for n in matrix_a:\r\n",
    "    print(n)\r\n",
    "\r\n",
    "print(\"Enter the elements of Second Matrix:\")\r\n",
    "matrix_b= [[int(input()) for i in range(column)] for i in range(rows)]\r\n",
    "for n in matrix_b:\r\n",
    "    print(n)\r\n",
    "    \r\n",
    "result=[[0 for i in range(column)] for i in range(rows)]\r\n",
    "\r\n",
    "for i in range(rows):\r\n",
    "    for j in range(column):\r\n",
    "        result[i][j] = matrix_a[i][j]+matrix_b[i][j]\r\n",
    "\r\n",
    "print(\"The Sum of Above two Matrices is : \")\r\n",
    "for r in result:\r\n",
    "    print(r)"
   ],
   "outputs": [
    {
     "output_type": "stream",
     "name": "stdout",
     "text": [
      "Enter the elements of First Matrix:\n",
      "First Matrix is: \n",
      "[1, 4]\n",
      "[5, 8]\n",
      "Enter the elements of Second Matrix:\n",
      "[7, 8]\n",
      "[5, 7]\n",
      "The Sum of Above two Matrices is : \n",
      "[8, 12]\n",
      "[10, 15]\n"
     ]
    }
   ],
   "metadata": {}
  },
  {
   "cell_type": "code",
   "execution_count": 1,
   "source": [
    "#SUBTRACTION\r\n",
    "rows = int(input(\"Enter the Number of rows : \" ))\r\n",
    "column = int(input(\"Enter the Number of Columns: \"))\r\n",
    "\r\n",
    "print(\"Enter the elements of First Matrix:\")\r\n",
    "matrix_a= [[int(input()) for i in range(column)] for i in range(rows)]\r\n",
    "print(\"First Matrix is: \")\r\n",
    "for n in matrix_a:\r\n",
    "    print(n)\r\n",
    "\r\n",
    "print(\"Enter the elements of Second Matrix:\")\r\n",
    "matrix_b= [[int(input()) for i in range(column)] for i in range(rows)]\r\n",
    "for n in matrix_b:\r\n",
    "    print(n)\r\n",
    "    \r\n",
    "result=[[0 for i in range(column)] for i in range(rows)]\r\n",
    "\r\n",
    "for i in range(rows):\r\n",
    "    for j in range(column):\r\n",
    "        result[i][j] = matrix_a[i][j]-matrix_b[i][j]\r\n",
    "\r\n",
    "print(\"The difference of  two Matrices is : \")\r\n",
    "for r in result:\r\n",
    "    print(r)"
   ],
   "outputs": [
    {
     "output_type": "stream",
     "name": "stdout",
     "text": [
      "Enter the elements of First Matrix:\n",
      "First Matrix is: \n",
      "[2, 2]\n",
      "[2, 2]\n",
      "Enter the elements of Second Matrix:\n",
      "[4, 2]\n",
      "[8, 5]\n",
      "The difference of  two Matrices is : \n",
      "[-2, 0]\n",
      "[-6, -3]\n"
     ]
    }
   ],
   "metadata": {}
  },
  {
   "cell_type": "code",
   "execution_count": 2,
   "source": [
    "#MULTIPLICATION\r\n",
    "rows_a = int(input(\"Enter the Number of rows  for the first matrix: \" ))\r\n",
    "column_a = int(input(\"Enter the Number of Columns for the first matrix: \"))\r\n",
    "\r\n",
    "\r\n",
    "row_b = int(input(\"Enter the Number of Rows for second matrix: \"))\r\n",
    "column_b = int(input(\"Enter the Number of Columns for the second matrix: \"))\r\n",
    "\r\n",
    "if column_a == row_b:\r\n",
    "    print(\"Enter the elements of First Matrix:\")\r\n",
    "    matrix_a= [[int(input()) for i in range(column_a)] for i in range(rows_a)]\r\n",
    "\r\n",
    "    print(\"First Matrix is: \")\r\n",
    "    for n in matrix_a:\r\n",
    "        print(n)\r\n",
    "\r\n",
    "    print(\"Enter the elements of Second Matrix:\")\r\n",
    "\r\n",
    "    matrix_b= [[int(input()) for i in range(column_b)] for i in range(row_b)]\r\n",
    "    for n in matrix_b:\r\n",
    "        print(n)\r\n",
    "        \r\n",
    "    result=[[0 for i in range(column_b)] for i in range(rows_a)]\r\n",
    "\r\n",
    "    for i in range(len(matrix_a)):\r\n",
    "        for j in range(len(matrix_b[0])):\r\n",
    "            for k in range(len(matrix_b)):\r\n",
    "                result [i][j]+=matrix_a[i][k]*matrix_b[k][j]\r\n",
    "    print(\"\\nMatrix_a X Matrix_b is: \")\r\n",
    "    for r in result:\r\n",
    "        print(r)\r\n",
    "else: \r\n",
    "    print(\" Invalid input! \")"
   ],
   "outputs": [
    {
     "output_type": "stream",
     "name": "stdout",
     "text": [
      "Enter the elements of First Matrix:\n",
      "First Matrix is: \n",
      "[1, 4]\n",
      "[7, 8]\n",
      "Enter the elements of Second Matrix:\n",
      "[1, 8, 9]\n",
      "[7, 3, 5]\n",
      "\n",
      "Matrix_a X Matrix_b is: \n",
      "[29, 20, 29]\n",
      "[63, 80, 103]\n"
     ]
    }
   ],
   "metadata": {}
  }
 ],
 "metadata": {
  "orig_nbformat": 4,
  "language_info": {
   "name": "python",
   "version": "3.9.5",
   "mimetype": "text/x-python",
   "codemirror_mode": {
    "name": "ipython",
    "version": 3
   },
   "pygments_lexer": "ipython3",
   "nbconvert_exporter": "python",
   "file_extension": ".py"
  },
  "kernelspec": {
   "name": "python3",
   "display_name": "Python 3.9.5 64-bit"
  },
  "interpreter": {
   "hash": "cd638cdfc3a5f0bdb87c7ae4c971b9a7ad30cbbceca30baa8a465ea01a2c7b11"
  }
 },
 "nbformat": 4,
 "nbformat_minor": 2
}